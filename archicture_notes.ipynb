{
 "cells": [
  {
   "cell_type": "markdown",
   "id": "625df7d0",
   "metadata": {},
   "source": [
    "### Architecture\n",
    "\n",
    "Pytorch\n",
    "\n",
    "- input layer\n",
    "- some kind of deep averaging net\n",
    "- last_shared_layer = torch.xxx()\n",
    "\n",
    "classification specific net:\n",
    "first_layer_class_output = torch.xxx(last_shared_layer)\n",
    "...\n",
    "last layer = softmax that outputs 5 labels\n",
    "\n",
    "\n",
    "sentiment specific net:\n",
    "first_layer_sent_output = torch.xxx(last_shared_layer)\n",
    "...\n",
    "last layer = softmax that outputs 3 labels\n",
    "\n",
    "forward() returns 2 elements?                                                                                                                                                                                                                                                                         "
   ]
  },
  {
   "cell_type": "code",
   "execution_count": 1,
   "id": "bc2d2a77",
   "metadata": {
    "scrolled": true
   },
   "outputs": [
    {
     "ename": "NameError",
     "evalue": "name 'self' is not defined",
     "output_type": "error",
     "traceback": [
      "\u001b[0;31m---------------------------------------------------------------------------\u001b[0m",
      "\u001b[0;31mNameError\u001b[0m                                 Traceback (most recent call last)",
      "Cell \u001b[0;32mIn[1], line 3\u001b[0m\n\u001b[1;32m      1\u001b[0m \u001b[38;5;66;03m# Forward pass \u001b[39;00m\n\u001b[1;32m      2\u001b[0m \u001b[38;5;66;03m# TODO: MAKE THIS WORK-- we have a skeleton of how we want it to work here, fill in the rest\u001b[39;00m\n\u001b[0;32m----> 3\u001b[0m pred_class, pred_sent \u001b[38;5;241m=\u001b[39m \u001b[38;5;28;43mself\u001b[39;49m\u001b[38;5;241m.\u001b[39mforward(X_batch)\n\u001b[1;32m      4\u001b[0m loss \u001b[38;5;241m=\u001b[39m loss_fn1(pred_class, Y_batch[\u001b[38;5;241m0\u001b[39m]) \u001b[38;5;241m+\u001b[39mloss_fn2(pred_sent, Y_batch[\u001b[38;5;241m1\u001b[39m])\n",
      "\u001b[0;31mNameError\u001b[0m: name 'self' is not defined"
     ]
    }
   ],
   "source": [
    "# Forward pass \n",
    "# TODO: MAKE THIS WORK-- we have a skeleton of how we want it to work here, fill in the rest\n",
    "pred_class, pred_sent = self.forward(X_batch)\n",
    "loss = loss_fn1(pred_class, Y_batch[0]) +loss_fn2(pred_sent, Y_batch[1]) "
   ]
  },
  {
   "cell_type": "code",
   "execution_count": null,
   "id": "307a84f7",
   "metadata": {},
   "outputs": [],
   "source": []
  }
 ],
 "metadata": {
  "kernelspec": {
   "display_name": "Python [conda env:cs375] *",
   "language": "python",
   "name": "conda-env-cs375-py"
  },
  "language_info": {
   "codemirror_mode": {
    "name": "ipython",
    "version": 3
   },
   "file_extension": ".py",
   "mimetype": "text/x-python",
   "name": "python",
   "nbconvert_exporter": "python",
   "pygments_lexer": "ipython3",
   "version": "3.8.16"
  }
 },
 "nbformat": 4,
 "nbformat_minor": 5
}
