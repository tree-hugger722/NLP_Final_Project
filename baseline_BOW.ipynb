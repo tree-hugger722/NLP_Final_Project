{
 "cells": [
  {
   "cell_type": "code",
   "execution_count": 1,
   "id": "089e45aa",
   "metadata": {},
   "outputs": [],
   "source": [
    "import numpy as np\n",
    "from sklearn.feature_extraction.text import CountVectorizer\n",
    "from sklearn.linear_model import LogisticRegression\n",
    "from sklearn.metrics import accuracy_score\n",
    "from sklearn.model_selection import train_test_split"
   ]
  },
  {
   "cell_type": "code",
   "execution_count": null,
   "id": "76785fd8",
   "metadata": {},
   "outputs": [],
   "source": [
    "# Assuming we have train and test sets\n",
    "Xmat_train = \n",
    "Y_train = \n",
    "\n",
    "Xmat_test = \n",
    "Y_test =\n",
    "\n",
    "# Create a Bag of Words representation using the training data *only*\n",
    "vectorizer = CountVectorizer()\n",
    "X_train_bow = vectorizer.fit_transform(X_train)\n",
    "X_test_bow = vectorizer.transform(X_test)\n",
    "\n",
    "# Train a Logistic Regression model\n",
    "baseline_bow = LogisticRegression(max_iter=1000, multi_class='auto', solver='lbfgs')\n",
    "baseline_bow.fit(X_train_bow, y_train)\n",
    "\n",
    "# Make predictions\n",
    "Y_pred_train = baseline_bow.predict(X_train_bow)\n",
    "Y_pred_test = baseline_bow.predict(X_test_bow)\n",
    "\n",
    "# Evaluate the model\n",
    "train_accuracy = accuracy_score(Y_train, Y_pred_train)\n",
    "test_accuracy = accuracy_score(Y_test, Y_pred_test)\n",
    "\n",
    "print(f\"Train accuracy: {train_accuracy}\")\n",
    "print(f\"Test accuracy: {test_accuracy}\")\n"
   ]
  }
 ],
 "metadata": {
  "kernelspec": {
   "display_name": "Python [conda env:cs375] *",
   "language": "python",
   "name": "conda-env-cs375-py"
  },
  "language_info": {
   "codemirror_mode": {
    "name": "ipython",
    "version": 3
   },
   "file_extension": ".py",
   "mimetype": "text/x-python",
   "name": "python",
   "nbconvert_exporter": "python",
   "pygments_lexer": "ipython3",
   "version": "3.8.16"
  }
 },
 "nbformat": 4,
 "nbformat_minor": 5
}
