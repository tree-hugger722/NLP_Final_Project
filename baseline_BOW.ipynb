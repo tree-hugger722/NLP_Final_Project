{
 "cells": [
  {
   "cell_type": "code",
   "execution_count": 17,
   "id": "089e45aa",
   "metadata": {},
   "outputs": [],
   "source": [
    "import numpy as np\n",
    "import pandas as pd\n",
    "from sklearn.feature_extraction.text import CountVectorizer\n",
    "from sklearn.linear_model import LogisticRegression\n",
    "from sklearn.metrics import accuracy_score\n",
    "from sklearn.model_selection import train_test_split\n",
    "import nltk"
   ]
  },
  {
   "cell_type": "code",
   "execution_count": 6,
   "id": "a3dbaefa",
   "metadata": {},
   "outputs": [],
   "source": [
    "def load_datasets():\n",
    "    \"\"\"\n",
    "    Load training and dev sets\n",
    "    \"\"\"\n",
    "\n",
    "    train = pd.read_csv(\"./new_dataset/train_preprocessed.csv\")\n",
    "    dev = pd.read_csv(\"./new_dataset/val_preprocessed.csv\")\n",
    "    \n",
    "    return train, dev"
   ]
  },
  {
   "cell_type": "code",
   "execution_count": 7,
   "id": "0f22a405",
   "metadata": {},
   "outputs": [],
   "source": [
    "train, dev = load_datasets()"
   ]
  },
  {
   "cell_type": "code",
   "execution_count": 8,
   "id": "f2309e28",
   "metadata": {},
   "outputs": [
    {
     "data": {
      "text/html": [
       "<div>\n",
       "<style scoped>\n",
       "    .dataframe tbody tr th:only-of-type {\n",
       "        vertical-align: middle;\n",
       "    }\n",
       "\n",
       "    .dataframe tbody tr th {\n",
       "        vertical-align: top;\n",
       "    }\n",
       "\n",
       "    .dataframe thead th {\n",
       "        text-align: right;\n",
       "    }\n",
       "</style>\n",
       "<table border=\"1\" class=\"dataframe\">\n",
       "  <thead>\n",
       "    <tr style=\"text-align: right;\">\n",
       "      <th></th>\n",
       "      <th>text</th>\n",
       "      <th>label</th>\n",
       "      <th>sentiment</th>\n",
       "      <th>Y_hard</th>\n",
       "      <th>Y_soft</th>\n",
       "    </tr>\n",
       "  </thead>\n",
       "  <tbody>\n",
       "    <tr>\n",
       "      <th>0</th>\n",
       "      <td>\"QT @user In the original draft of the 7th boo...</td>\n",
       "      <td>2</td>\n",
       "      <td>positive</td>\n",
       "      <td>[0.0, 0.0, 1.0]</td>\n",
       "      <td>[0.0014647464267909527, 0.043079327791929245, ...</td>\n",
       "    </tr>\n",
       "    <tr>\n",
       "      <th>1</th>\n",
       "      <td>\"Ben Smith / Smith (concussion) remains out of...</td>\n",
       "      <td>1</td>\n",
       "      <td>neutral</td>\n",
       "      <td>[0.0, 1.0, 0.0]</td>\n",
       "      <td>[0.20808669924736023, 0.782555341720581, 0.009...</td>\n",
       "    </tr>\n",
       "    <tr>\n",
       "      <th>2</th>\n",
       "      <td>Sorry bout the stream last night I crashed out...</td>\n",
       "      <td>1</td>\n",
       "      <td>neutral</td>\n",
       "      <td>[0.0, 1.0, 0.0]</td>\n",
       "      <td>[0.3470957279205322, 0.5051978826522827, 0.147...</td>\n",
       "    </tr>\n",
       "    <tr>\n",
       "      <th>3</th>\n",
       "      <td>Chase Headley's RBI double in the 8th inning o...</td>\n",
       "      <td>1</td>\n",
       "      <td>neutral</td>\n",
       "      <td>[0.0, 1.0, 0.0]</td>\n",
       "      <td>[0.008634913712739944, 0.8800899386405945, 0.1...</td>\n",
       "    </tr>\n",
       "    <tr>\n",
       "      <th>4</th>\n",
       "      <td>@user Alciato: Bee will invest 150 million in ...</td>\n",
       "      <td>2</td>\n",
       "      <td>positive</td>\n",
       "      <td>[0.0, 0.0, 1.0]</td>\n",
       "      <td>[0.006843153852969408, 0.7086856961250305, 0.2...</td>\n",
       "    </tr>\n",
       "    <tr>\n",
       "      <th>...</th>\n",
       "      <td>...</td>\n",
       "      <td>...</td>\n",
       "      <td>...</td>\n",
       "      <td>...</td>\n",
       "      <td>...</td>\n",
       "    </tr>\n",
       "    <tr>\n",
       "      <th>45610</th>\n",
       "      <td>@user \\\"\"So amazing to have the beautiful Lady...</td>\n",
       "      <td>2</td>\n",
       "      <td>positive</td>\n",
       "      <td>[0.0, 0.0, 1.0]</td>\n",
       "      <td>[0.0028112607542425394, 0.008069629780948162, ...</td>\n",
       "    </tr>\n",
       "    <tr>\n",
       "      <th>45611</th>\n",
       "      <td>9 September has arrived, which means Apple's n...</td>\n",
       "      <td>2</td>\n",
       "      <td>positive</td>\n",
       "      <td>[0.0, 0.0, 1.0]</td>\n",
       "      <td>[0.002179460832849145, 0.12519682943820953, 0....</td>\n",
       "    </tr>\n",
       "    <tr>\n",
       "      <th>45612</th>\n",
       "      <td>Leeds 1-1 Sheff Wed. Giuseppe Bellusci securin...</td>\n",
       "      <td>2</td>\n",
       "      <td>positive</td>\n",
       "      <td>[0.0, 0.0, 1.0]</td>\n",
       "      <td>[0.004066226538270712, 0.8510255217552185, 0.1...</td>\n",
       "    </tr>\n",
       "    <tr>\n",
       "      <th>45613</th>\n",
       "      <td>@user no I'm in hilton head till the 8th lol g...</td>\n",
       "      <td>1</td>\n",
       "      <td>neutral</td>\n",
       "      <td>[0.0, 1.0, 0.0]</td>\n",
       "      <td>[0.009541264735162258, 0.49123987555503845, 0....</td>\n",
       "    </tr>\n",
       "    <tr>\n",
       "      <th>45614</th>\n",
       "      <td>WASHINGTON (Reuters) - U.S. Vice President Joe...</td>\n",
       "      <td>1</td>\n",
       "      <td>neutral</td>\n",
       "      <td>[0.0, 1.0, 0.0]</td>\n",
       "      <td>[0.006597565952688456, 0.957841157913208, 0.03...</td>\n",
       "    </tr>\n",
       "  </tbody>\n",
       "</table>\n",
       "<p>45615 rows × 5 columns</p>\n",
       "</div>"
      ],
      "text/plain": [
       "                                                    text  label sentiment   \n",
       "0      \"QT @user In the original draft of the 7th boo...      2  positive  \\\n",
       "1      \"Ben Smith / Smith (concussion) remains out of...      1   neutral   \n",
       "2      Sorry bout the stream last night I crashed out...      1   neutral   \n",
       "3      Chase Headley's RBI double in the 8th inning o...      1   neutral   \n",
       "4      @user Alciato: Bee will invest 150 million in ...      2  positive   \n",
       "...                                                  ...    ...       ...   \n",
       "45610  @user \\\"\"So amazing to have the beautiful Lady...      2  positive   \n",
       "45611  9 September has arrived, which means Apple's n...      2  positive   \n",
       "45612  Leeds 1-1 Sheff Wed. Giuseppe Bellusci securin...      2  positive   \n",
       "45613  @user no I'm in hilton head till the 8th lol g...      1   neutral   \n",
       "45614  WASHINGTON (Reuters) - U.S. Vice President Joe...      1   neutral   \n",
       "\n",
       "                Y_hard                                             Y_soft  \n",
       "0      [0.0, 0.0, 1.0]  [0.0014647464267909527, 0.043079327791929245, ...  \n",
       "1      [0.0, 1.0, 0.0]  [0.20808669924736023, 0.782555341720581, 0.009...  \n",
       "2      [0.0, 1.0, 0.0]  [0.3470957279205322, 0.5051978826522827, 0.147...  \n",
       "3      [0.0, 1.0, 0.0]  [0.008634913712739944, 0.8800899386405945, 0.1...  \n",
       "4      [0.0, 0.0, 1.0]  [0.006843153852969408, 0.7086856961250305, 0.2...  \n",
       "...                ...                                                ...  \n",
       "45610  [0.0, 0.0, 1.0]  [0.0028112607542425394, 0.008069629780948162, ...  \n",
       "45611  [0.0, 0.0, 1.0]  [0.002179460832849145, 0.12519682943820953, 0....  \n",
       "45612  [0.0, 0.0, 1.0]  [0.004066226538270712, 0.8510255217552185, 0.1...  \n",
       "45613  [0.0, 1.0, 0.0]  [0.009541264735162258, 0.49123987555503845, 0....  \n",
       "45614  [0.0, 1.0, 0.0]  [0.006597565952688456, 0.957841157913208, 0.03...  \n",
       "\n",
       "[45615 rows x 5 columns]"
      ]
     },
     "execution_count": 8,
     "metadata": {},
     "output_type": "execute_result"
    }
   ],
   "source": [
    "train"
   ]
  },
  {
   "cell_type": "code",
   "execution_count": 15,
   "id": "bc24b3ba",
   "metadata": {},
   "outputs": [],
   "source": [
    "def tokenizer(text: str):\n",
    "    '''\n",
    "    NLTK Tweet Tokenizer -- removes handles\n",
    "\n",
    "    @param text        string tweet\n",
    "    @ret tokens        list of tokens\n",
    "    '''\n",
    "    text = text.lower()\n",
    "    tokenizer = nltk.tokenize.TweetTokenizer(strip_handles=True)\n",
    "    tokens = tokenizer.tokenize(text)\n",
    "    \n",
    "    return tokens"
   ]
  },
  {
   "cell_type": "code",
   "execution_count": 18,
   "id": "ccd2ccb1",
   "metadata": {},
   "outputs": [],
   "source": [
    "# Assuming we have train and test sets\n",
    "Xmat_train = train[\"text\"]\n",
    "Y_train = train[\"Y_hard\"]\n",
    "\n",
    "Xmat_dev = dev[\"text\"]\n",
    "Y_dev = dev[\"Y_hard\"]\n",
    "\n",
    "# Handle missing values\n",
    "Xmat_train.fillna('', inplace=True)\n",
    "Xmat_dev.fillna('', inplace=True)\n",
    "\n",
    "# Create a Bag of Words representation using the training data *only*\n",
    "vectorizer = CountVectorizer(tokenizer=tokenizer)\n",
    "X_train_bow = vectorizer.fit_transform(Xmat_train)\n",
    "X_dev_bow = vectorizer.transform(Xmat_dev)"
   ]
  },
  {
   "cell_type": "code",
   "execution_count": 23,
   "id": "76785fd8",
   "metadata": {},
   "outputs": [
    {
     "name": "stdout",
     "output_type": "stream",
     "text": [
      "Train accuracy: 0.9095472980379261\n",
      "Dev accuracy: 0.6775\n"
     ]
    }
   ],
   "source": [
    "# Train a Logistic Regression model\n",
    "baseline_bow = LogisticRegression(max_iter=2000, multi_class='auto', solver='lbfgs')\n",
    "baseline_bow.fit(X_train_bow, Y_train)\n",
    "\n",
    "# Make predictions\n",
    "Y_pred_train = baseline_bow.predict(X_train_bow)\n",
    "Y_pred_dev = baseline_bow.predict(X_dev_bow)\n",
    "\n",
    "# Evaluate the model\n",
    "train_accuracy = accuracy_score(Y_train, Y_pred_train)\n",
    "dev_accuracy = accuracy_score(Y_dev, Y_pred_dev)\n",
    "\n",
    "print(f\"Train accuracy: {train_accuracy}\")\n",
    "print(f\"Dev accuracy: {dev_accuracy}\")\n"
   ]
  },
  {
   "cell_type": "markdown",
   "id": "9462da80",
   "metadata": {},
   "source": [
    "# Test Set"
   ]
  },
  {
   "cell_type": "code",
   "execution_count": 37,
   "id": "9776b3d8",
   "metadata": {},
   "outputs": [],
   "source": [
    "test = pd.read_csv(\"./new_dataset/test_preprocessed.csv\")\n",
    "\n",
    "Xmat_test = test[\"text\"]\n",
    "Y_test = test[\"Y_hard\"]\n",
    "\n",
    "X_test_bow = vectorizer.transform(Xmat_test)"
   ]
  },
  {
   "cell_type": "code",
   "execution_count": 38,
   "id": "358d16ed",
   "metadata": {},
   "outputs": [
    {
     "name": "stdout",
     "output_type": "stream",
     "text": [
      "Test accuracy: 0.5902800390752198\n"
     ]
    }
   ],
   "source": [
    "Y_pred_test = baseline_bow.predict(X_test_bow)\n",
    "test_accuracy = accuracy_score(Y_test, Y_pred_test)\n",
    "\n",
    "print(f\"Test accuracy: {test_accuracy}\")"
   ]
  },
  {
   "cell_type": "code",
   "execution_count": 48,
   "id": "7ef1150e",
   "metadata": {},
   "outputs": [
    {
     "data": {
      "text/plain": [
       "'[0.0, 1.0, 0.0]'"
      ]
     },
     "execution_count": 48,
     "metadata": {},
     "output_type": "execute_result"
    }
   ],
   "source": [
    "Y_test[0]"
   ]
  },
  {
   "cell_type": "code",
   "execution_count": 49,
   "id": "1c9c28f0",
   "metadata": {},
   "outputs": [
    {
     "data": {
      "text/plain": [
       "'[0.0, 1.0, 0.0]'"
      ]
     },
     "execution_count": 49,
     "metadata": {},
     "output_type": "execute_result"
    }
   ],
   "source": [
    "Y_pred_test[1]"
   ]
  },
  {
   "cell_type": "code",
   "execution_count": 51,
   "id": "3f200cab",
   "metadata": {},
   "outputs": [],
   "source": [
    "total = [0, 0, 0]\n",
    "wrong = [0, 0, 0]\n",
    "for y, y_pred in zip(Y_test, Y_pred_test):\n",
    "    y = eval(y)\n",
    "    y_pred = eval(y_pred)\n",
    "    total[np.argmax(y)] += 1\n",
    "    if np.argmax(y) != np.argmax(y_pred):\n",
    "        # if the prediction is wrong\n",
    "        wrong[np.argmax(y)] += 1\n"
   ]
  },
  {
   "cell_type": "code",
   "execution_count": 52,
   "id": "81e52b20",
   "metadata": {},
   "outputs": [
    {
     "data": {
      "text/plain": [
       "[3972, 5937, 2375]"
      ]
     },
     "execution_count": 52,
     "metadata": {},
     "output_type": "execute_result"
    }
   ],
   "source": [
    "total"
   ]
  },
  {
   "cell_type": "code",
   "execution_count": 58,
   "id": "c36a04aa",
   "metadata": {},
   "outputs": [],
   "source": [
    "percent_error = []\n",
    "\n",
    "for i in range(len(total)):\n",
    "    percent_error.append(wrong[i]/total[i])"
   ]
  },
  {
   "cell_type": "code",
   "execution_count": 59,
   "id": "df126d77",
   "metadata": {},
   "outputs": [
    {
     "data": {
      "text/plain": [
       "[0.5599194360523666, 0.3084049183089102, 0.41178947368421054]"
      ]
     },
     "execution_count": 59,
     "metadata": {},
     "output_type": "execute_result"
    }
   ],
   "source": [
    "percent_error"
   ]
  },
  {
   "cell_type": "code",
   "execution_count": null,
   "id": "5a281b38",
   "metadata": {},
   "outputs": [],
   "source": []
  }
 ],
 "metadata": {
  "kernelspec": {
   "display_name": "Python [conda env:cs375] *",
   "language": "python",
   "name": "conda-env-cs375-py"
  },
  "language_info": {
   "codemirror_mode": {
    "name": "ipython",
    "version": 3
   },
   "file_extension": ".py",
   "mimetype": "text/x-python",
   "name": "python",
   "nbconvert_exporter": "python",
   "pygments_lexer": "ipython3",
   "version": "3.8.16"
  }
 },
 "nbformat": 4,
 "nbformat_minor": 5
}
