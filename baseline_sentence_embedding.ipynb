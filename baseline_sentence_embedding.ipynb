{
 "cells": [
  {
   "cell_type": "code",
   "execution_count": 1,
   "id": "5f9729ef",
   "metadata": {},
   "outputs": [],
   "source": [
    "import numpy as np\n",
    "from sklearn.linear_model import LogisticRegression\n",
    "from sklearn.metrics import accuracy_score"
   ]
  },
  {
   "cell_type": "code",
   "execution_count": 2,
   "id": "9061438f",
   "metadata": {},
   "outputs": [
    {
     "ename": "SyntaxError",
     "evalue": "invalid syntax (2950157888.py, line 4)",
     "output_type": "error",
     "traceback": [
      "\u001b[0;36m  Cell \u001b[0;32mIn[2], line 4\u001b[0;36m\u001b[0m\n\u001b[0;31m    Xmat_train = # shape: (num_examples_train, 64, 50)\u001b[0m\n\u001b[0m                 ^\u001b[0m\n\u001b[0;31mSyntaxError\u001b[0m\u001b[0;31m:\u001b[0m invalid syntax\n"
     ]
    }
   ],
   "source": [
    "def average_embeddings(Xmat):\n",
    "    return np.mean(Xmat, axis=1)\n",
    "\n",
    "Xmat_train = # shape: (num_examples_train, 64, 50)\n",
    "Y_train = \n",
    "\n",
    "Xmat_test = # shape: (num_examples_test, 64, 50)\n",
    "Y_test =\n",
    "\n",
    "# Average the word embeddings for each example into a sentence embedding\n",
    "X_train_avg = average_embeddings(Xmat_train)\n",
    "X_test_avg = average_embeddings(Xmat_test)\n",
    "\n",
    "# Train a Logistic Regression model using the averaged embeddings\n",
    "baseline_embed = LogisticRegression(max_iter=1000, multi_class='auto', solver='lbfgs')\n",
    "baseline_embed.fit(X_train_avg, Y_train)\n",
    "\n",
    "# Prediction & Evaluation\n",
    "Y_pred_train = baseline_embed.predict(X_train_avg)\n",
    "Y_pred_test = baseline_embed.predict(X_test_avg)\n",
    "\n",
    "train_accuracy = accuracy_score(Y_train, Y_pred_train)\n",
    "test_accuracy = accuracy_score(Y_test, Y_pred_test)\n",
    "\n",
    "print(f\"Train accuracy: {train_accuracy}\")\n",
    "print(f\"Test accuracy: {test_accuracy}\")\n"
   ]
  },
  {
   "cell_type": "code",
   "execution_count": null,
   "id": "d9164d04",
   "metadata": {},
   "outputs": [],
   "source": []
  }
 ],
 "metadata": {
  "kernelspec": {
   "display_name": "Python [conda env:cs375] *",
   "language": "python",
   "name": "conda-env-cs375-py"
  },
  "language_info": {
   "codemirror_mode": {
    "name": "ipython",
    "version": 3
   },
   "file_extension": ".py",
   "mimetype": "text/x-python",
   "name": "python",
   "nbconvert_exporter": "python",
   "pygments_lexer": "ipython3",
   "version": "3.8.16"
  }
 },
 "nbformat": 4,
 "nbformat_minor": 5
}
