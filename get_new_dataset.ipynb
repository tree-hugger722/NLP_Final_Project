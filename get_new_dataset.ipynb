{
 "cells": [
  {
   "cell_type": "code",
   "execution_count": 1,
   "id": "714e2011",
   "metadata": {},
   "outputs": [],
   "source": [
    "import requests\n",
    "API_URL = \"https://datasets-server.huggingface.co/parquet?dataset=tweet_eval&config=sentiment&split=train&offset=0&limit=1000\"\n",
    "def query():\n",
    "    response = requests.get(API_URL)\n",
    "    return response.json()\n",
    "data = query()"
   ]
  },
  {
   "cell_type": "code",
   "execution_count": 2,
   "id": "0dd6e638",
   "metadata": {},
   "outputs": [],
   "source": [
    "urls = [f['url'] for f in data['parquet_files'] if f['split'] == 'train']"
   ]
  },
  {
   "cell_type": "code",
   "execution_count": 3,
   "id": "7d653cd7",
   "metadata": {},
   "outputs": [
    {
     "data": {
      "text/plain": [
       "['https://huggingface.co/datasets/tweet_eval/resolve/refs%2Fconvert%2Fparquet/sentiment/tweet_eval-train.parquet']"
      ]
     },
     "execution_count": 3,
     "metadata": {},
     "output_type": "execute_result"
    }
   ],
   "source": [
    "urls"
   ]
  },
  {
   "cell_type": "code",
   "execution_count": 4,
   "id": "41fcc6ff",
   "metadata": {
    "scrolled": true
   },
   "outputs": [
    {
     "name": "stdout",
     "output_type": "stream",
     "text": [
      "shape: (45_615, 2)\n",
      "┌───────────────────────────────────┬───────┐\n",
      "│ text                              ┆ label │\n",
      "│ ---                               ┆ ---   │\n",
      "│ str                               ┆ i64   │\n",
      "╞═══════════════════════════════════╪═══════╡\n",
      "│ \"QT @user In the original draft … ┆ 2     │\n",
      "│ \"Ben Smith / Smith (concussion) … ┆ 1     │\n",
      "│ Sorry bout the stream last night… ┆ 1     │\n",
      "│ Chase Headley's RBI double in th… ┆ 1     │\n",
      "│ …                                 ┆ …     │\n",
      "│ 9 September has arrived, which m… ┆ 2     │\n",
      "│ Leeds 1-1 Sheff Wed. Giuseppe Be… ┆ 2     │\n",
      "│ @user no I'm in hilton head till… ┆ 1     │\n",
      "│ WASHINGTON (Reuters) - U.S. Vice… ┆ 1     │\n",
      "└───────────────────────────────────┴───────┘\n"
     ]
    }
   ],
   "source": [
    "import polars as pl\n",
    "\n",
    "df = (\n",
    "    pl.read_parquet(urls[0])\n",
    ")\n",
    "print(df)"
   ]
  },
  {
   "cell_type": "code",
   "execution_count": 5,
   "id": "84042880",
   "metadata": {},
   "outputs": [
    {
     "data": {
      "text/plain": [
       "'\"QT @user In the original draft of the 7th book, Remus Lupin survived the Battle of Hogwarts. #HappyBirthdayRemusLupin\"'"
      ]
     },
     "execution_count": 5,
     "metadata": {},
     "output_type": "execute_result"
    }
   ],
   "source": [
    "df[0]['text'][0]"
   ]
  },
  {
   "cell_type": "code",
   "execution_count": 6,
   "id": "0484ccb2",
   "metadata": {},
   "outputs": [],
   "source": [
    "urls_test = [f['url'] for f in data['parquet_files'] if f['split'] == 'test']\n",
    "urls_val = [f['url'] for f in data['parquet_files'] if f['split'] == 'validation']"
   ]
  },
  {
   "cell_type": "code",
   "execution_count": 7,
   "id": "22f79826",
   "metadata": {},
   "outputs": [],
   "source": [
    "df_test = (\n",
    "    pl.read_parquet(urls_test[0])\n",
    ")\n",
    "df_val = (\n",
    "    pl.read_parquet(urls_val[0])\n",
    ")"
   ]
  },
  {
   "cell_type": "code",
   "execution_count": 9,
   "id": "4a9f05ee",
   "metadata": {},
   "outputs": [
    {
     "name": "stdout",
     "output_type": "stream",
     "text": [
      "shape: (12_284, 2)\n",
      "┌───────────────────────────────────┬───────┐\n",
      "│ text                              ┆ label │\n",
      "│ ---                               ┆ ---   │\n",
      "│ str                               ┆ i64   │\n",
      "╞═══════════════════════════════════╪═══════╡\n",
      "│ @user @user what do these '1/2 n… ┆ 1     │\n",
      "│ OH: “I had a blue penis while I … ┆ 1     │\n",
      "│ @user @user That's coming, but I… ┆ 1     │\n",
      "│ I think I may be finally in with… ┆ 2     │\n",
      "│ …                                 ┆ …     │\n",
      "│ perfect pussy clips #vanessa hud… ┆ 1     │\n",
      "│ #latestnews 4 #newmexico #politi… ┆ 1     │\n",
      "│ Trying to have a conversation wi… ┆ 0     │\n",
      "│ @user You are a stand up guy and… ┆ 2     │\n",
      "└───────────────────────────────────┴───────┘\n"
     ]
    }
   ],
   "source": [
    "print(df_test)"
   ]
  },
  {
   "cell_type": "code",
   "execution_count": 10,
   "id": "eb5c01b0",
   "metadata": {},
   "outputs": [
    {
     "data": {
      "text/plain": [
       "polars.dataframe.frame.DataFrame"
      ]
     },
     "execution_count": 10,
     "metadata": {},
     "output_type": "execute_result"
    }
   ],
   "source": [
    "type(df_test)"
   ]
  },
  {
   "cell_type": "code",
   "execution_count": 22,
   "id": "be9f6d01",
   "metadata": {},
   "outputs": [],
   "source": [
    "df.write_csv(\"./new_dataset/train.csv\", separator=\",\")"
   ]
  },
  {
   "cell_type": "code",
   "execution_count": 21,
   "id": "d25485e4",
   "metadata": {},
   "outputs": [],
   "source": [
    "df_val.write_csv(\"./new_dataset/val.csv\", separator=\",\")"
   ]
  },
  {
   "cell_type": "code",
   "execution_count": 20,
   "id": "79e7f4f5",
   "metadata": {},
   "outputs": [],
   "source": [
    "df_test.write_csv(\"./new_dataset/test.csv\", separator=\",\")"
   ]
  },
  {
   "cell_type": "code",
   "execution_count": null,
   "id": "ce38fad9",
   "metadata": {},
   "outputs": [],
   "source": []
  }
 ],
 "metadata": {
  "kernelspec": {
   "display_name": "Python [conda env:cs375] *",
   "language": "python",
   "name": "conda-env-cs375-py"
  },
  "language_info": {
   "codemirror_mode": {
    "name": "ipython",
    "version": 3
   },
   "file_extension": ".py",
   "mimetype": "text/x-python",
   "name": "python",
   "nbconvert_exporter": "python",
   "pygments_lexer": "ipython3",
   "version": "3.8.16"
  }
 },
 "nbformat": 4,
 "nbformat_minor": 5
}
