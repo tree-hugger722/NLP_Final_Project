{
 "cells": [
  {
   "cell_type": "markdown",
   "id": "bbe79a2e",
   "metadata": {},
   "source": [
    "### Get TweetEval Dataset"
   ]
  },
  {
   "cell_type": "code",
   "execution_count": null,
   "id": "1e271a76",
   "metadata": {},
   "outputs": [],
   "source": [
    "import requests\n",
    "import polars as pl"
   ]
  },
  {
   "cell_type": "markdown",
   "id": "ae2b09a7",
   "metadata": {},
   "source": [
    "Get TweetEval dataset from API"
   ]
  },
  {
   "cell_type": "code",
   "execution_count": null,
   "id": "ccb5013d",
   "metadata": {},
   "outputs": [],
   "source": [
    "API_URL = \"https://datasets-server.huggingface.co/parquet?dataset=tweet_eval&config=sentiment&split=train&offset=0&limit=1000\"\n",
    "\n",
    "def query():\n",
    "    response = requests.get(API_URL)\n",
    "    return response.json()"
   ]
  },
  {
   "cell_type": "code",
   "execution_count": 2,
   "id": "0dd6e638",
   "metadata": {},
   "outputs": [],
   "source": [
    "data = query()\n",
    "urls = [f['url'] for f in data['parquet_files'] if f['split'] == 'train']\n",
    "df = (\n",
    "    pl.read_parquet(urls[0])\n",
    ")"
   ]
  },
  {
   "cell_type": "code",
   "execution_count": 4,
   "id": "41fcc6ff",
   "metadata": {
    "scrolled": true
   },
   "outputs": [
    {
     "name": "stdout",
     "output_type": "stream",
     "text": [
      "shape: (45_615, 2)\n",
      "┌───────────────────────────────────┬───────┐\n",
      "│ text                              ┆ label │\n",
      "│ ---                               ┆ ---   │\n",
      "│ str                               ┆ i64   │\n",
      "╞═══════════════════════════════════╪═══════╡\n",
      "│ \"QT @user In the original draft … ┆ 2     │\n",
      "│ \"Ben Smith / Smith (concussion) … ┆ 1     │\n",
      "│ Sorry bout the stream last night… ┆ 1     │\n",
      "│ Chase Headley's RBI double in th… ┆ 1     │\n",
      "│ …                                 ┆ …     │\n",
      "│ 9 September has arrived, which m… ┆ 2     │\n",
      "│ Leeds 1-1 Sheff Wed. Giuseppe Be… ┆ 2     │\n",
      "│ @user no I'm in hilton head till… ┆ 1     │\n",
      "│ WASHINGTON (Reuters) - U.S. Vice… ┆ 1     │\n",
      "└───────────────────────────────────┴───────┘\n"
     ]
    }
   ],
   "source": [
    "# Check that the dataframe contains a 'text' column and a 'label' column\n",
    "print(df)"
   ]
  },
  {
   "cell_type": "code",
   "execution_count": 5,
   "id": "84042880",
   "metadata": {
    "scrolled": true
   },
   "outputs": [
    {
     "data": {
      "text/plain": [
       "'\"QT @user In the original draft of the 7th book, Remus Lupin survived the Battle of Hogwarts. #HappyBirthdayRemusLupin\"'"
      ]
     },
     "execution_count": 5,
     "metadata": {},
     "output_type": "execute_result"
    }
   ],
   "source": [
    "# Check that the zeroth entry in the 'text' column seems like a reasonable tweet\n",
    "df[0]['text'][0]"
   ]
  },
  {
   "cell_type": "markdown",
   "id": "fdb72f65",
   "metadata": {},
   "source": [
    "Create test and validation dataframes with URLs"
   ]
  },
  {
   "cell_type": "code",
   "execution_count": 6,
   "id": "0484ccb2",
   "metadata": {},
   "outputs": [],
   "source": [
    "urls_test = [f['url'] for f in data['parquet_files'] if f['split'] == 'test']\n",
    "urls_val = [f['url'] for f in data['parquet_files'] if f['split'] == 'validation']"
   ]
  },
  {
   "cell_type": "code",
   "execution_count": 7,
   "id": "22f79826",
   "metadata": {},
   "outputs": [],
   "source": [
    "df_test = (\n",
    "    pl.read_parquet(urls_test[0])\n",
    ")\n",
    "df_val = (\n",
    "    pl.read_parquet(urls_val[0])\n",
    ")"
   ]
  },
  {
   "cell_type": "markdown",
   "id": "7220e2c6",
   "metadata": {},
   "source": [
    "Convert dataframe to CSVs"
   ]
  },
  {
   "cell_type": "code",
   "execution_count": 22,
   "id": "be9f6d01",
   "metadata": {},
   "outputs": [],
   "source": [
    "df.write_csv(\"./data/train.csv\", separator=\",\")\n",
    "df_val.write_csv(\"./data/val.csv\", separator=\",\")\n",
    "df_test.write_csv(\"./data/test.csv\", separator=\",\")"
   ]
  }
 ],
 "metadata": {
  "kernelspec": {
   "display_name": "Python [conda env:.conda-cs375] *",
   "language": "python",
   "name": "conda-env-.conda-cs375-py"
  },
  "language_info": {
   "codemirror_mode": {
    "name": "ipython",
    "version": 3
   },
   "file_extension": ".py",
   "mimetype": "text/x-python",
   "name": "python",
   "nbconvert_exporter": "python",
   "pygments_lexer": "ipython3",
   "version": "3.8.16"
  }
 },
 "nbformat": 4,
 "nbformat_minor": 5
}
